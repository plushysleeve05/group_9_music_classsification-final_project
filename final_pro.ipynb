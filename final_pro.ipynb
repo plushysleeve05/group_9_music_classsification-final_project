{
 "cells": [
  {
   "cell_type": "markdown",
   "metadata": {},
   "source": [
    " *importing essential Python libraries/modules such as 'os', 'librosa', 'math', 'json', 'matplotlib.pyplot' (aliased as 'plt'), and 'numpy' (aliased as 'np') for functionalities related to operating system interaction, audio processing, mathematical operations, JSON handling, visualization, and scientific computing.*"
   ]
  },
  {
   "cell_type": "code",
   "execution_count": 4,
   "metadata": {},
   "outputs": [],
   "source": [
    "import os\n",
    "import librosa\n",
    "import math\n",
    "import json \n",
    "import matplotlib.pyplot as plt\n",
    "import numpy as np"
   ]
  },
  {
   "cell_type": "markdown",
   "metadata": {},
   "source": [
    "*initializing variables related to audio processing, setting paths for dataset and JSON file, specifying sample rate, track duration, and calculating the total number of samples per audio track based on the defined duration and sample rate:*"
   ]
  },
  {
   "cell_type": "code",
   "execution_count": 5,
   "metadata": {},
   "outputs": [],
   "source": [
    "dataset_path = r\"c:\\\\Users\\\\ayoba\\\\OneDrive - Ashesi University\\\\Year 2 sem 2 fall\\\\AI\\\\FINAL PROJECT\\\\Data\\\\genres_original\"\n",
    "json_path = r\"data.json\"\n",
    "SAMPLE_RATE = 22050\n",
    "DURATION = 30\n",
    "SAMPLES_PER_TRACK = SAMPLE_RATE * DURATION"
   ]
  },
  {
   "cell_type": "markdown",
   "metadata": {},
   "source": [
    "*defining a function named save_mfcc that processes audio files from a specified dataset directory, extracts MFCC (Mel-frequency cepstral coefficients) features from segments of those audio files, and saves the extracted data including MFCCs, corresponding labels, and semantic labels into a JSON file:*"
   ]
  },
  {
   "cell_type": "code",
   "execution_count": 6,
   "metadata": {},
   "outputs": [],
   "source": [
    "def save_mfcc(dataset_path, json_path, n_mfcc=13, n_fft=2048, hop_length=512, num_segments=5):\n",
    "    data = {\n",
    "        \"mapping\": [],\n",
    "        \"mfcc\": [],\n",
    "        \"labels\": [],\n",
    "    }\n",
    "    samples_ps = int(SAMPLES_PER_TRACK / num_segments) # ps = per segment\n",
    "    expected_vects_ps = math.ceil(samples_ps / hop_length)\n",
    "    \n",
    "    for i, (dirpath, dirnames, filenames) in enumerate(os.walk(dataset_path)):\n",
    "        if dirpath != dataset_path:\n",
    "            dirpath_comp = dirpath.split(\"\\\\\")  # Corrected path separator\n",
    "            semantic_label = dirpath_comp[-1]\n",
    "            data[\"mapping\"].append(semantic_label)\n",
    "            print(f\"Processing: {semantic_label}\")\n",
    "            \n",
    "            for f in filenames:\n",
    "                # since this file is more than 1mb and cant be read by the librosa library\n",
    "                if f == str(\"jazz.00054.wav\"):\n",
    "                    continue\n",
    "                else:\n",
    "                    file_path = os.path.join(dirpath, f)\n",
    "                    try:\n",
    "                        signal, sr = librosa.load(file_path, sr=SAMPLE_RATE)\n",
    "                    except Exception as e:\n",
    "                        print(f\"Error encountered while loading {file_path}: {e}\")\n",
    "                        continue\n",
    "                    \n",
    "                    for s in range(num_segments):\n",
    "                        start_sample = samples_ps * s\n",
    "                        finish_sample = start_sample + samples_ps\n",
    "\n",
    "                        mfcc = librosa.feature.mfcc(y=signal[start_sample:finish_sample],\n",
    "                                                    sr=sr,\n",
    "                                                    n_fft=n_fft,\n",
    "                                                    n_mfcc=n_mfcc,\n",
    "                                                    hop_length=hop_length)\n",
    "\n",
    "                        mfcc = mfcc.T\n",
    "\n",
    "                        if len(mfcc) == expected_vects_ps:\n",
    "                            data[\"mfcc\"].append(mfcc.tolist())\n",
    "                            data[\"labels\"].append(i)  # Adjusted label appending\n",
    "\n",
    "                            print(f\"{file_path}, segment: {s+1}\")\n",
    "\n",
    "    with open(json_path, \"w\") as f:\n",
    "        json.dump(data, f, indent=4)"
   ]
  },
  {
   "cell_type": "code",
   "execution_count": 7,
   "metadata": {},
   "outputs": [],
   "source": [
    "from IPython.display import clear_output"
   ]
  },
  {
   "cell_type": "code",
   "execution_count": 8,
   "metadata": {},
   "outputs": [],
   "source": [
    "save_mfcc(dataset_path,json_path,num_segments=10)\n",
    "clear_output()"
   ]
  },
  {
   "cell_type": "markdown",
   "metadata": {},
   "source": [
    "*importing necessary libraries from scikit-learn (json, train_test_split, StandardScaler, SVC, accuracy_score, classification_report) used for data handling, preprocessing, support vector machine (SVM) classification, and performance evaluation in machine learning tasks:*"
   ]
  },
  {
   "cell_type": "code",
   "execution_count": 9,
   "metadata": {},
   "outputs": [],
   "source": [
    "import json\n",
    "from sklearn.model_selection import train_test_split\n",
    "from sklearn.preprocessing import StandardScaler\n",
    "from sklearn.svm import SVC\n",
    "from sklearn.metrics import accuracy_score, classification_report"
   ]
  },
  {
   "cell_type": "markdown",
   "metadata": {},
   "source": [
    "loading data from the JSON file, specifically MFCC (Mel-frequency cepstral coefficients) data and their corresponding labels, and transforming this data into NumPy arrays (X for the MFCC data and y for the labels). the function facilitates the retrieval and preparation of data for deep learning tasks:"
   ]
  },
  {
   "cell_type": "code",
   "execution_count": 10,
   "metadata": {},
   "outputs": [],
   "source": [
    "def load_data(json_path):\n",
    "    with open(json_path, \"r\") as f:\n",
    "        data = json.load(f)\n",
    "    # Convert lists to numpy arrays\n",
    "    X = np.array(data[\"mfcc\"])\n",
    "    y = np.array(data[\"labels\"])\n",
    "    return X, y"
   ]
  },
  {
   "cell_type": "code",
   "execution_count": 11,
   "metadata": {},
   "outputs": [],
   "source": [
    "X, y = load_data(\"data.json\")"
   ]
  },
  {
   "cell_type": "markdown",
   "metadata": {},
   "source": [
    "*loading MFCC data and genres from a JSON file, counts the number of MFCCs per genre, and displays the count for each genre in the dataset.*"
   ]
  },
  {
   "cell_type": "code",
   "execution_count": 12,
   "metadata": {},
   "outputs": [
    {
     "name": "stdout",
     "output_type": "stream",
     "text": [
      "Genre: blues, Number of MFCCs: 130\n",
      "Genre: classical, Number of MFCCs: 130\n",
      "Genre: country, Number of MFCCs: 130\n",
      "Genre: disco, Number of MFCCs: 130\n",
      "Genre: hiphop, Number of MFCCs: 130\n",
      "Genre: jazz, Number of MFCCs: 130\n",
      "Genre: metal, Number of MFCCs: 130\n",
      "Genre: pop, Number of MFCCs: 130\n",
      "Genre: reggae, Number of MFCCs: 130\n",
      "Genre: rock, Number of MFCCs: 130\n"
     ]
    }
   ],
   "source": [
    "# Load data from the JSON file generated by save_mfcc function\n",
    "with open(json_path, 'r') as f:\n",
    "    data = json.load(f)\n",
    "\n",
    "# Extract the genres and their corresponding MFCCs\n",
    "genres = data['mapping']\n",
    "mfccs = data['mfcc']\n",
    "\n",
    "# Create a dictionary to store counts of MFCCs for each genre\n",
    "genre_mfcc_counts = {}\n",
    "\n",
    "# Count the number of MFCCs for each genre\n",
    "for i, genre in enumerate(genres):\n",
    "    # Check if the genre already exists in the dictionary; if not, initialize the count to zero\n",
    "    if genre not in genre_mfcc_counts:\n",
    "        genre_mfcc_counts[genre] = 0\n",
    "    \n",
    "    # Increment the count by the number of MFCCs for the current genre\n",
    "    genre_mfcc_counts[genre] += len(mfccs[i])\n",
    "\n",
    "# Display the counts of MFCCs for each genre\n",
    "for genre, count in genre_mfcc_counts.items():\n",
    "    print(f\"Genre: {genre}, Number of MFCCs: {count}\")"
   ]
  },
  {
   "cell_type": "markdown",
   "metadata": {},
   "source": [
    "*Implementing an LSTM neural network using TensorFlow's Keras API for classifying MFCC data, training it on a dataset, and evaluating its performance on a test set, showcasing the model's test accuracy.*"
   ]
  },
  {
   "cell_type": "code",
   "execution_count": 13,
   "metadata": {},
   "outputs": [],
   "source": [
    "from tensorflow.keras.models import Sequential\n",
    "from tensorflow.keras.layers import LSTM, Dense, Dropout\n",
    "\n",
    "# Reshape the MFCCs to have a suitable shape for RNN (3D tensor)\n",
    "X_rnn = X.reshape(X.shape[0], X.shape[1], X.shape[2])  \n",
    "y_adjusted = y - 1  # Subtracting 1 from each label to shift the range to 0-9\n",
    "# Split the data into training and testing sets\n",
    "X_train, X_test, y_train_adjusted, y_test_adjusted = train_test_split(X_rnn, y_adjusted, test_size=0.2, random_state=42)"
   ]
  },
  {
   "cell_type": "code",
   "execution_count": 13,
   "metadata": {},
   "outputs": [
    {
     "name": "stdout",
     "output_type": "stream",
     "text": [
      "Epoch 1/20\n",
      "250/250 [==============================] - 41s 145ms/step - loss: 1.6592 - accuracy: 0.4084 - val_loss: 1.4122 - val_accuracy: 0.4985\n",
      "Epoch 2/20\n",
      "250/250 [==============================] - 36s 144ms/step - loss: 1.3648 - accuracy: 0.5115 - val_loss: 1.1931 - val_accuracy: 0.5811\n",
      "Epoch 3/20\n",
      "250/250 [==============================] - 38s 152ms/step - loss: 1.2502 - accuracy: 0.5637 - val_loss: 1.1536 - val_accuracy: 0.5871\n",
      "Epoch 4/20\n",
      "250/250 [==============================] - 40s 159ms/step - loss: 1.1334 - accuracy: 0.6004 - val_loss: 1.0301 - val_accuracy: 0.6301\n",
      "Epoch 5/20\n",
      "250/250 [==============================] - 40s 161ms/step - loss: 1.0575 - accuracy: 0.6368 - val_loss: 1.0557 - val_accuracy: 0.6341\n",
      "Epoch 6/20\n",
      "250/250 [==============================] - 40s 158ms/step - loss: 0.9790 - accuracy: 0.6646 - val_loss: 0.9454 - val_accuracy: 0.6687\n",
      "Epoch 7/20\n",
      "250/250 [==============================] - 40s 162ms/step - loss: 0.9009 - accuracy: 0.6952 - val_loss: 0.8840 - val_accuracy: 0.6927\n",
      "Epoch 8/20\n",
      "250/250 [==============================] - 43s 172ms/step - loss: 0.8085 - accuracy: 0.7267 - val_loss: 0.8498 - val_accuracy: 0.7067\n",
      "Epoch 9/20\n",
      "250/250 [==============================] - 44s 178ms/step - loss: 0.7406 - accuracy: 0.7538 - val_loss: 0.7652 - val_accuracy: 0.7357\n",
      "Epoch 10/20\n",
      "250/250 [==============================] - 44s 178ms/step - loss: 0.6831 - accuracy: 0.7699 - val_loss: 0.7472 - val_accuracy: 0.7528\n",
      "Epoch 11/20\n",
      "250/250 [==============================] - 45s 179ms/step - loss: 0.6377 - accuracy: 0.7874 - val_loss: 0.6760 - val_accuracy: 0.7668\n",
      "Epoch 12/20\n",
      "250/250 [==============================] - 65s 260ms/step - loss: 0.6031 - accuracy: 0.8001 - val_loss: 0.6815 - val_accuracy: 0.7683\n",
      "Epoch 13/20\n",
      "250/250 [==============================] - 70s 280ms/step - loss: 0.5661 - accuracy: 0.8152 - val_loss: 0.6612 - val_accuracy: 0.7873\n",
      "Epoch 14/20\n",
      "250/250 [==============================] - 69s 276ms/step - loss: 0.5570 - accuracy: 0.8171 - val_loss: 0.7150 - val_accuracy: 0.7628\n",
      "Epoch 15/20\n",
      "250/250 [==============================] - 70s 279ms/step - loss: 0.5148 - accuracy: 0.8332 - val_loss: 0.6457 - val_accuracy: 0.7883\n",
      "Epoch 16/20\n",
      "250/250 [==============================] - 69s 278ms/step - loss: 0.4729 - accuracy: 0.8441 - val_loss: 0.6198 - val_accuracy: 0.8023\n",
      "Epoch 17/20\n",
      "250/250 [==============================] - 69s 277ms/step - loss: 0.4598 - accuracy: 0.8485 - val_loss: 0.6276 - val_accuracy: 0.7993\n",
      "Epoch 18/20\n",
      "250/250 [==============================] - 69s 275ms/step - loss: 0.4225 - accuracy: 0.8577 - val_loss: 0.6017 - val_accuracy: 0.8043\n",
      "Epoch 19/20\n",
      "250/250 [==============================] - 96s 383ms/step - loss: 0.4329 - accuracy: 0.8582 - val_loss: 0.6162 - val_accuracy: 0.8083\n",
      "Epoch 20/20\n",
      "250/250 [==============================] - 43s 173ms/step - loss: 0.4239 - accuracy: 0.8619 - val_loss: 0.6167 - val_accuracy: 0.8043\n",
      "63/63 [==============================] - 3s 47ms/step - loss: 0.6167 - accuracy: 0.8043\n",
      "Test accuracy: 0.8043\n"
     ]
    }
   ],
   "source": [
    "\n",
    "\n",
    "# Create the LSTM model\n",
    "model = Sequential([\n",
    "    LSTM(units=128, input_shape=(X_rnn.shape[1], X_rnn.shape[2]), return_sequences=True),\n",
    "    Dropout(0.3),  # Adding dropout for regularization\n",
    "    LSTM(units=64),\n",
    "    Dropout(0.3),\n",
    "    Dense(len(genres), activation='softmax')\n",
    "])\n",
    "\n",
    "# Compile the model\n",
    "model.compile(optimizer='adam',\n",
    "              loss='sparse_categorical_crossentropy',\n",
    "              metrics=['accuracy'])\n",
    "\n",
    "# Train the model\n",
    "history = model.fit(X_train, y_train_adjusted, epochs=20, batch_size=32, validation_data=(X_test, y_test_adjusted))\n",
    "\n",
    "\n"
   ]
  },
  {
   "cell_type": "code",
   "execution_count": 33,
   "metadata": {},
   "outputs": [
    {
     "name": "stdout",
     "output_type": "stream",
     "text": [
      "63/63 [==============================] - 3s 47ms/step - loss: 0.5788 - accuracy: 0.8108\n",
      "Test accuracy: 0.8108\n"
     ]
    }
   ],
   "source": [
    "\n",
    "# Evaluate the model using the reshaped test set\n",
    "test_loss, test_acc = model.evaluate(X_test, y_test_adjusted)\n",
    "print(f\"Test accuracy: {test_acc:.4f}\")\n"
   ]
  },
  {
   "cell_type": "code",
   "execution_count": 39,
   "metadata": {},
   "outputs": [
    {
     "data": {
      "image/png": "[encoded data removed]",
      "text/plain": [
       "<Figure size 640x480 with 1 Axes>"
      ]
     },
     "metadata": {},
     "output_type": "display_data"
    },
    {
     "data": {
      "image/png": "[encoded data removed]",
      "text/plain": [
       "<Figure size 640x480 with 1 Axes>"
      ]
     },
     "metadata": {},
     "output_type": "display_data"
    }
   ],
   "source": [
    "import matplotlib.pyplot as plt\n",
    "\n",
    "# Plot training and validation accuracy\n",
    "plt.plot(history.history['accuracy'], label='Training Accuracy')\n",
    "plt.plot(history.history['val_accuracy'], label='Validation Accuracy')\n",
    "plt.xlabel('Epochs')\n",
    "plt.ylabel('Accuracy')\n",
    "plt.legend()\n",
    "plt.show()\n",
    "\n",
    "# Plot training and validation loss\n",
    "plt.plot(history.history['loss'], label='Training Loss')\n",
    "plt.plot(history.history['val_loss'], label='Validation Loss')\n",
    "plt.xlabel('Epochs')\n",
    "plt.ylabel('Loss')\n",
    "plt.legend()\n",
    "plt.show()\n"
   ]
  },
  {
   "cell_type": "code",
   "execution_count": 16,
   "metadata": {},
   "outputs": [
    {
     "name": "stdout",
     "output_type": "stream",
     "text": [
      "63/63 [==============================] - 3s 42ms/step\n"
     ]
    }
   ],
   "source": [
    "import numpy as np\n",
    "y_pred = model.predict(X_test)\n",
    "# Convert y_pred from probabilities to class labels\n",
    "y_pred_labels = np.argmax(y_pred, axis=1)\n"
   ]
  },
  {
   "cell_type": "code",
   "execution_count": 35,
   "metadata": {},
   "outputs": [],
   "source": [
    "# Convert adjusted labels back to their original format (if needed)\n",
    "y_test_original = y_test_adjusted + 1\n",
    "\n"
   ]
  },
  {
   "cell_type": "code",
   "execution_count": 37,
   "metadata": {},
   "outputs": [
    {
     "name": "stdout",
     "output_type": "stream",
     "text": [
      "Classification Report:\n",
      "               precision    recall  f1-score   support\n",
      "\n",
      "       blues       0.84      0.82      0.83       209\n",
      "   classical       0.90      0.97      0.93       203\n",
      "     country       0.70      0.72      0.71       189\n",
      "       disco       0.84      0.69      0.76       191\n",
      "      hiphop       0.77      0.83      0.80       214\n",
      "        jazz       0.79      0.79      0.79       183\n",
      "       metal       0.87      0.91      0.89       197\n",
      "         pop       0.87      0.89      0.88       198\n",
      "      reggae       0.84      0.82      0.83       207\n",
      "        rock       0.68      0.66      0.67       207\n",
      "\n",
      "    accuracy                           0.81      1998\n",
      "   macro avg       0.81      0.81      0.81      1998\n",
      "weighted avg       0.81      0.81      0.81      1998\n",
      "\n"
     ]
    }
   ],
   "source": [
    "from sklearn.metrics import classification_report\n",
    "\n",
    "# Generate the classification report\n",
    "report = classification_report(y_test_adjusted, y_pred_labels, target_names=genres)\n",
    "print(\"Classification Report:\\n\", report)\n"
   ]
  },
  {
   "cell_type": "code",
   "execution_count": 19,
   "metadata": {},
   "outputs": [
    {
     "name": "stdout",
     "output_type": "stream",
     "text": [
      "Number of classes: 10\n"
     ]
    }
   ],
   "source": [
    "from tensorflow.keras.utils import to_categorical\n",
    "\n",
    "# Convert labels to categorical if not already done\n",
    "y_categorical = to_categorical(y_adjusted)\n",
    "\n",
    "# Check the number of classes in the output layer\n",
    "num_classes = y_categorical.shape[1]\n",
    "print(\"Number of classes:\", num_classes)\n"
   ]
  },
  {
   "cell_type": "code",
   "execution_count": 20,
   "metadata": {},
   "outputs": [
    {
     "name": "stdout",
     "output_type": "stream",
     "text": [
      "Minimum label: 1\n",
      "Maximum label: 10\n"
     ]
    }
   ],
   "source": [
    "min_label = np.min(y)\n",
    "max_label = np.max(y)\n",
    "print(\"Minimum label:\", min_label)\n",
    "print(\"Maximum label:\", max_label)\n"
   ]
  },
  {
   "cell_type": "code",
   "execution_count": 21,
   "metadata": {},
   "outputs": [],
   "source": [
    "y_test_original = y_test_adjusted - 1\n"
   ]
  },
  {
   "cell_type": "markdown",
   "metadata": {},
   "source": [
    "**MANUAL GRID SEARCH TO FIND BEST PARAMETERS:**"
   ]
  },
  {
   "cell_type": "code",
   "execution_count": 23,
   "metadata": {},
   "outputs": [
    {
     "name": "stdout",
     "output_type": "stream",
     "text": [
      "Best Accuracy: 0.8313313126564026\n",
      "Best Parameters: {'units': 128, 'dropout': 0.3, 'batch_size': 32, 'epochs': 20}\n"
     ]
    }
   ],
   "source": [
    "from tensorflow.keras.models import Sequential\n",
    "from tensorflow.keras.layers import LSTM, Dense, Dropout\n",
    "from sklearn.model_selection import train_test_split\n",
    "import numpy as np\n",
    "\n",
    "# Load your data (X and y) here\n",
    "#   'X' contains your features and 'y' contains your original labels\n",
    "\n",
    "# Define hyperparameters to be tested\n",
    "units_list = [64, 128]\n",
    "dropout_list = [0.2, 0.3]\n",
    "batch_size_list = [32, 64]\n",
    "epochs_list = [10, 20]\n",
    "\n",
    "best_accuracy = 0\n",
    "best_params = {}\n",
    "\n",
    "# Iterate through each combination of hyperparameters\n",
    "for units in units_list:\n",
    "    for dropout in dropout_list:\n",
    "        for batch_size in batch_size_list:\n",
    "            for epochs in epochs_list:\n",
    "                # Create the LSTM model\n",
    "                model = Sequential([\n",
    "                    LSTM(units=units, input_shape=(X.shape[1], X.shape[2]), return_sequences=True),\n",
    "                    Dropout(dropout),\n",
    "                    LSTM(units=int(units / 2)),\n",
    "                    Dropout(dropout),\n",
    "                    Dense(len(np.unique(y)), activation='softmax')\n",
    "                ])\n",
    "\n",
    "                # Compile the model\n",
    "                model.compile(optimizer='adam', loss='sparse_categorical_crossentropy', metrics=['accuracy'])\n",
    "\n",
    "                # Adjust labels for training purposes\n",
    "                y_adjusted_train = y - 1  # Adjusting labels for training\n",
    "\n",
    "                # Split the data into training and testing sets\n",
    "                X_train, X_test, y_train_adjusted, y_test = train_test_split(X, y_adjusted_train, test_size=0.2, random_state=42)\n",
    "\n",
    "                # Train the model\n",
    "                model.fit(X_train, y_train_adjusted, epochs=epochs, batch_size=batch_size, verbose=0)\n",
    "\n",
    "                # Evaluate the model\n",
    "                test_loss, test_accuracy = model.evaluate(X_test, y_test, verbose=0)\n",
    "\n",
    "                # Save the best parameters and accuracy\n",
    "                if test_accuracy > best_accuracy:\n",
    "                    best_accuracy = test_accuracy\n",
    "                    best_params = {\n",
    "                        'units': units,\n",
    "                        'dropout': dropout,\n",
    "                        'batch_size': batch_size,\n",
    "                        'epochs': epochs\n",
    "                    }\n",
    "\n",
    "print(\"Best Accuracy:\", best_accuracy)\n",
    "print(\"Best Parameters:\", best_params)\n",
    " \n"
   ]
  },
  {
   "cell_type": "code",
   "execution_count": 16,
   "metadata": {},
   "outputs": [],
   "source": [
    "best_params = {'units': 128, 'dropout': 0.3, 'batch_size': 32, 'epochs': 20}"
   ]
  },
  {
   "cell_type": "code",
   "execution_count": 17,
   "metadata": {},
   "outputs": [
    {
     "name": "stdout",
     "output_type": "stream",
     "text": [
      "Epoch 1/20\n",
      "313/313 [==============================] - 59s 174ms/step - loss: 1.5212 - accuracy: 0.4593\n",
      "Epoch 2/20\n",
      "313/313 [==============================] - 54s 173ms/step - loss: 1.2255 - accuracy: 0.5691\n",
      "Epoch 3/20\n",
      "313/313 [==============================] - 54s 173ms/step - loss: 1.0873 - accuracy: 0.6228\n",
      "Epoch 4/20\n",
      "313/313 [==============================] - 55s 175ms/step - loss: 1.0098 - accuracy: 0.6541\n",
      "Epoch 5/20\n",
      "313/313 [==============================] - 55s 176ms/step - loss: 0.8933 - accuracy: 0.6967\n",
      "Epoch 6/20\n",
      "313/313 [==============================] - 54s 173ms/step - loss: 0.8299 - accuracy: 0.7167\n",
      "Epoch 7/20\n",
      "313/313 [==============================] - 55s 176ms/step - loss: 0.7445 - accuracy: 0.7536\n",
      "Epoch 8/20\n",
      "313/313 [==============================] - 55s 175ms/step - loss: 0.6842 - accuracy: 0.7716\n",
      "Epoch 9/20\n",
      "313/313 [==============================] - 54s 174ms/step - loss: 0.6579 - accuracy: 0.7859\n",
      "Epoch 10/20\n",
      "313/313 [==============================] - 54s 174ms/step - loss: 0.6194 - accuracy: 0.7931\n",
      "Epoch 11/20\n",
      "313/313 [==============================] - 57s 181ms/step - loss: 0.5682 - accuracy: 0.8140\n",
      "Epoch 12/20\n",
      "313/313 [==============================] - 55s 177ms/step - loss: 0.7475 - accuracy: 0.7483\n",
      "Epoch 13/20\n",
      "313/313 [==============================] - 55s 176ms/step - loss: 0.5886 - accuracy: 0.8082\n",
      "Epoch 14/20\n",
      "313/313 [==============================] - 55s 175ms/step - loss: 0.5485 - accuracy: 0.8179\n",
      "Epoch 15/20\n",
      "313/313 [==============================] - 55s 175ms/step - loss: 0.4944 - accuracy: 0.8390\n",
      "Epoch 16/20\n",
      "313/313 [==============================] - 55s 177ms/step - loss: 0.4738 - accuracy: 0.8449\n",
      "Epoch 17/20\n",
      "313/313 [==============================] - 55s 175ms/step - loss: 0.4166 - accuracy: 0.8619\n",
      "Epoch 18/20\n",
      "313/313 [==============================] - 55s 177ms/step - loss: 0.4200 - accuracy: 0.8625\n",
      "Epoch 19/20\n",
      "313/313 [==============================] - 56s 178ms/step - loss: 0.3970 - accuracy: 0.8682\n",
      "Epoch 20/20\n",
      "313/313 [==============================] - 55s 176ms/step - loss: 0.3750 - accuracy: 0.8779\n"
     ]
    },
    {
     "data": {
      "text/plain": [
       "<keras.src.callbacks.History at 0x22babb9faf0>"
      ]
     },
     "execution_count": 17,
     "metadata": {},
     "output_type": "execute_result"
    }
   ],
   "source": [
    "# Creating the LSTM model using the best hyperparameters\n",
    "final_model = Sequential([\n",
    "    LSTM(units=best_params['units'], input_shape=(X.shape[1], X.shape[2]), return_sequences=True),\n",
    "    Dropout(best_params['dropout']),\n",
    "    LSTM(units=int(best_params['units'] / 2)),\n",
    "    Dropout(best_params['dropout']),\n",
    "    Dense(len(np.unique(y)), activation='softmax')\n",
    "])\n",
    "\n",
    "# Compiling the model\n",
    "final_model.compile(optimizer='adam', loss='sparse_categorical_crossentropy', metrics=['accuracy'])\n",
    "\n",
    "# Training the final model using the entire dataset\n",
    "final_model.fit(X, y_adjusted, epochs=best_params['epochs'], batch_size=best_params['batch_size'])\n"
   ]
  },
  {
   "cell_type": "code",
   "execution_count": 18,
   "metadata": {},
   "outputs": [
    {
     "name": "stdout",
     "output_type": "stream",
     "text": [
      "63/63 [==============================] - 1s 2ms/step - loss: 0.0000e+00 - accuracy: 0.0000e+00\n"
     ]
    },
    {
     "data": {
      "text/plain": [
       "[0.0, 0.0]"
      ]
     },
     "execution_count": 18,
     "metadata": {},
     "output_type": "execute_result"
    }
   ],
   "source": [
    "final_model.evaluate(X_test)"
   ]
  },
  {
   "cell_type": "code",
   "execution_count": 19,
   "metadata": {},
   "outputs": [
    {
     "name": "stdout",
     "output_type": "stream",
     "text": [
      "63/63 [==============================] - 4s 52ms/step\n",
      "Classification Report for LSTM best model:\n",
      "               precision    recall  f1-score   support\n",
      "\n",
      "       blues       0.98      0.86      0.91       209\n",
      "   classical       0.94      0.99      0.97       203\n",
      "     country       0.80      0.92      0.86       189\n",
      "       disco       0.83      0.93      0.88       191\n",
      "      hiphop       0.96      0.87      0.92       214\n",
      "        jazz       0.92      0.90      0.91       183\n",
      "       metal       0.90      0.96      0.93       197\n",
      "         pop       0.92      0.93      0.93       198\n",
      "      reggae       0.93      0.94      0.93       207\n",
      "        rock       0.92      0.79      0.85       207\n",
      "\n",
      "    accuracy                           0.91      1998\n",
      "   macro avg       0.91      0.91      0.91      1998\n",
      "weighted avg       0.91      0.91      0.91      1998\n",
      "\n"
     ]
    }
   ],
   "source": [
    "y_test_final = final_model.predict(X_test)\n",
    "y_pred_final_labels = np.argmax(y_test_final, axis=1)\n",
    "# Generate the classification report\n",
    "report_lstm_final = classification_report(y_test_adjusted, y_pred_final_labels, target_names=genres)\n",
    "print(\"Classification Report for LSTM best model:\\n\", report_lstm_final)"
   ]
  },
  {
   "cell_type": "code",
   "execution_count": 28,
   "metadata": {},
   "outputs": [
    {
     "name": "stdout",
     "output_type": "stream",
     "text": [
      "63/63 [==============================] - 3s 46ms/step - loss: 0.2336 - accuracy: 0.9204\n",
      "Test accuracy of the final model: 0.9204\n"
     ]
    }
   ],
   "source": [
    "# Evaluating the final model\n",
    "test_loss, test_accuracy = final_model.evaluate(X_test, y_test_adjusted)\n",
    "print(f\"Test accuracy of the final model: {test_accuracy:.4f}\")\n"
   ]
  },
  {
   "cell_type": "markdown",
   "metadata": {},
   "source": [
    "**TRAINING THE GRU MODEL**"
   ]
  },
  {
   "cell_type": "code",
   "execution_count": 27,
   "metadata": {},
   "outputs": [
    {
     "name": "stdout",
     "output_type": "stream",
     "text": [
      "Epoch 1/20\n",
      "250/250 [==============================] - 50s 111ms/step - loss: 1.6269 - accuracy: 0.4191 - val_loss: 1.1883 - val_accuracy: 0.5696\n",
      "Epoch 2/20\n",
      "250/250 [==============================] - 6930s 28s/step - loss: 1.1567 - accuracy: 0.5924 - val_loss: 0.9490 - val_accuracy: 0.6612\n",
      "Epoch 3/20\n",
      "250/250 [==============================] - 28s 113ms/step - loss: 0.9500 - accuracy: 0.6731 - val_loss: 0.8257 - val_accuracy: 0.7057\n",
      "Epoch 4/20\n",
      "250/250 [==============================] - 29s 118ms/step - loss: 0.8082 - accuracy: 0.7256 - val_loss: 0.8202 - val_accuracy: 0.7172\n",
      "Epoch 5/20\n",
      "250/250 [==============================] - 34s 137ms/step - loss: 0.7119 - accuracy: 0.7566 - val_loss: 0.7180 - val_accuracy: 0.7457\n",
      "Epoch 6/20\n",
      "250/250 [==============================] - 29s 117ms/step - loss: 0.6157 - accuracy: 0.7934 - val_loss: 0.6570 - val_accuracy: 0.7808\n",
      "Epoch 7/20\n",
      "250/250 [==============================] - 32s 127ms/step - loss: 0.5534 - accuracy: 0.8130 - val_loss: 0.6314 - val_accuracy: 0.7878\n",
      "Epoch 8/20\n",
      "250/250 [==============================] - 34s 136ms/step - loss: 0.5255 - accuracy: 0.8272 - val_loss: 0.6381 - val_accuracy: 0.7748\n",
      "Epoch 9/20\n",
      "250/250 [==============================] - 34s 135ms/step - loss: 0.4728 - accuracy: 0.8380 - val_loss: 0.6175 - val_accuracy: 0.7953\n",
      "Epoch 10/20\n",
      "250/250 [==============================] - 34s 135ms/step - loss: 0.4329 - accuracy: 0.8560 - val_loss: 0.6133 - val_accuracy: 0.8118\n",
      "Epoch 11/20\n",
      "250/250 [==============================] - 35s 142ms/step - loss: 0.3935 - accuracy: 0.8693 - val_loss: 0.6012 - val_accuracy: 0.8188\n",
      "Epoch 12/20\n",
      "250/250 [==============================] - 35s 141ms/step - loss: 0.3745 - accuracy: 0.8787 - val_loss: 0.6643 - val_accuracy: 0.7793\n",
      "Epoch 13/20\n",
      "250/250 [==============================] - 39s 158ms/step - loss: 0.3490 - accuracy: 0.8824 - val_loss: 0.5834 - val_accuracy: 0.8228\n",
      "Epoch 14/20\n",
      "250/250 [==============================] - 36s 144ms/step - loss: 0.3443 - accuracy: 0.8881 - val_loss: 0.5387 - val_accuracy: 0.8328\n",
      "Epoch 15/20\n",
      "250/250 [==============================] - 35s 140ms/step - loss: 0.3169 - accuracy: 0.8920 - val_loss: 0.5370 - val_accuracy: 0.8278\n",
      "Epoch 16/20\n",
      "250/250 [==============================] - 36s 146ms/step - loss: 0.2842 - accuracy: 0.9081 - val_loss: 0.5733 - val_accuracy: 0.8263\n",
      "Epoch 17/20\n",
      "250/250 [==============================] - 36s 142ms/step - loss: 0.2739 - accuracy: 0.9092 - val_loss: 0.5457 - val_accuracy: 0.8323\n",
      "Epoch 18/20\n",
      "250/250 [==============================] - 36s 144ms/step - loss: 0.2827 - accuracy: 0.9064 - val_loss: 0.5562 - val_accuracy: 0.8253\n",
      "Epoch 19/20\n",
      "250/250 [==============================] - 34s 137ms/step - loss: 0.2430 - accuracy: 0.9205 - val_loss: 0.5280 - val_accuracy: 0.8453\n",
      "Epoch 20/20\n",
      "250/250 [==============================] - 35s 139ms/step - loss: 0.2412 - accuracy: 0.9190 - val_loss: 0.5744 - val_accuracy: 0.8358\n",
      "63/63 [==============================] - 2s 34ms/step - loss: 0.5744 - accuracy: 0.8358\n",
      "Test accuracy using GRU: 0.8358\n"
     ]
    }
   ],
   "source": [
    "#training the GRU model\n",
    "from tensorflow.keras.models import Sequential\n",
    "from tensorflow.keras.layers import GRU, Dense, Dropout\n",
    "\n",
    "# Create the GRU model\n",
    "model_gru = Sequential([\n",
    "    GRU(units=128, input_shape=(X.shape[1], X.shape[2]), return_sequences=True),\n",
    "    Dropout(0.3),  # Adding dropout for regularization\n",
    "    GRU(units=64),\n",
    "    Dropout(0.3),\n",
    "    Dense(len(genres), activation='softmax')\n",
    "])\n",
    "\n",
    "# Compile the GRU model\n",
    "model_gru.compile(optimizer='adam',\n",
    "                  loss='sparse_categorical_crossentropy',\n",
    "                  metrics=['accuracy'])\n",
    "\n",
    "# Train the GRU model\n",
    "model_train_gru = model_gru.fit(X_train, y_train_adjusted, epochs=20, batch_size=32, validation_data=(X_test, y_test_adjusted))\n",
    "\n",
    "# Evaluate the GRU model\n",
    "test_loss_gru, test_acc_gru = model_gru.evaluate(X_test, y_test_adjusted)\n",
    "print(f\"Test accuracy using GRU: {test_acc_gru:.4f}\")\n"
   ]
  },
  {
   "cell_type": "markdown",
   "metadata": {},
   "source": [
    "**MANUAL GRID SEARCH FOR THE GRU MODEL:**"
   ]
  },
  {
   "cell_type": "code",
   "execution_count": 41,
   "metadata": {},
   "outputs": [
    {
     "name": "stdout",
     "output_type": "stream",
     "text": [
      "Best Accuracy: 0.8453453183174133\n",
      "Best Parameters: {'units': 128, 'dropout_rate': 0.2, 'batch_size': 32, 'epochs': 20}\n"
     ]
    }
   ],
   "source": [
    "from tensorflow.keras.models import Sequential\n",
    "from tensorflow.keras.layers import GRU, Dense, Dropout\n",
    "import numpy as np\n",
    "\n",
    "# Define the hyperparameters to be tested\n",
    "units_list = [64, 128]\n",
    "dropout_list = [0.2, 0.3]\n",
    "batch_size_list = [32, 64]\n",
    "epochs_list = [10, 20]\n",
    "\n",
    "best_accuracy = 0\n",
    "best_params = {}\n",
    "\n",
    "# Iterate through each combination of hyperparameters\n",
    "for units in units_list:\n",
    "    for dropout_rate in dropout_list:\n",
    "        for batch_size in batch_size_list:\n",
    "            for epochs in epochs_list:\n",
    "                # Create the GRU model\n",
    "                model = Sequential([\n",
    "                    GRU(units=units, input_shape=(X.shape[1], X.shape[2]), return_sequences=True),\n",
    "                    Dropout(dropout_rate),\n",
    "                    GRU(units=int(units / 2)),\n",
    "                    Dropout(dropout_rate),\n",
    "                    Dense(len(np.unique(y)), activation='softmax')\n",
    "                ])\n",
    "\n",
    "                # Compile the model\n",
    "                model.compile(optimizer='adam', loss='sparse_categorical_crossentropy', metrics=['accuracy'])\n",
    "\n",
    "                # Train the model\n",
    "                model.fit(X_train, y_train_adjusted, epochs=epochs, batch_size=batch_size, verbose=0)\n",
    "\n",
    "                # Evaluate the model\n",
    "                _, test_accuracy = model.evaluate(X_test, y_test_adjusted, verbose=0)\n",
    "\n",
    "                # Save the best parameters and accuracy\n",
    "                if test_accuracy > best_accuracy:\n",
    "                    best_accuracy = test_accuracy\n",
    "                    best_params = {\n",
    "                        'units': units,\n",
    "                        'dropout_rate': dropout_rate,\n",
    "                        'batch_size': batch_size,\n",
    "                        'epochs': epochs\n",
    "                    }\n",
    "\n",
    "print(\"Best Accuracy:\", best_accuracy)\n",
    "print(\"Best Parameters:\", best_params)\n"
   ]
  },
  {
   "cell_type": "code",
   "execution_count": 21,
   "metadata": {},
   "outputs": [
    {
     "name": "stdout",
     "output_type": "stream",
     "text": [
      "Epoch 1/20\n",
      "250/250 [==============================] - 44s 159ms/step - loss: 1.5427 - accuracy: 0.4420 - val_loss: 1.1819 - val_accuracy: 0.5741\n",
      "Epoch 2/20\n",
      "250/250 [==============================] - 38s 154ms/step - loss: 1.0942 - accuracy: 0.6127 - val_loss: 0.9664 - val_accuracy: 0.6567\n",
      "Epoch 3/20\n",
      "250/250 [==============================] - 40s 160ms/step - loss: 0.9102 - accuracy: 0.6862 - val_loss: 0.8771 - val_accuracy: 0.6917\n",
      "Epoch 4/20\n",
      "250/250 [==============================] - 38s 153ms/step - loss: 0.7838 - accuracy: 0.7316 - val_loss: 0.7630 - val_accuracy: 0.7327\n",
      "Epoch 5/20\n",
      "250/250 [==============================] - 38s 153ms/step - loss: 0.6783 - accuracy: 0.7679 - val_loss: 0.7672 - val_accuracy: 0.7397\n",
      "Epoch 6/20\n",
      "250/250 [==============================] - 44s 175ms/step - loss: 0.6088 - accuracy: 0.7922 - val_loss: 0.6605 - val_accuracy: 0.7778\n",
      "Epoch 7/20\n",
      "250/250 [==============================] - 43s 173ms/step - loss: 0.5458 - accuracy: 0.8130 - val_loss: 0.7044 - val_accuracy: 0.7648\n",
      "Epoch 8/20\n",
      "250/250 [==============================] - 41s 166ms/step - loss: 0.4866 - accuracy: 0.8369 - val_loss: 0.6595 - val_accuracy: 0.7793\n",
      "Epoch 9/20\n",
      "250/250 [==============================] - 38s 151ms/step - loss: 0.4421 - accuracy: 0.8525 - val_loss: 0.5891 - val_accuracy: 0.8108\n",
      "Epoch 10/20\n",
      "250/250 [==============================] - 37s 150ms/step - loss: 0.4200 - accuracy: 0.8608 - val_loss: 0.5780 - val_accuracy: 0.8148\n",
      "Epoch 11/20\n",
      "250/250 [==============================] - 38s 151ms/step - loss: 0.3935 - accuracy: 0.8713 - val_loss: 0.6252 - val_accuracy: 0.7983\n",
      "Epoch 12/20\n",
      "250/250 [==============================] - 38s 150ms/step - loss: 0.3669 - accuracy: 0.8763 - val_loss: 0.5734 - val_accuracy: 0.8128\n",
      "Epoch 13/20\n",
      "250/250 [==============================] - 38s 151ms/step - loss: 0.3377 - accuracy: 0.8863 - val_loss: 0.5917 - val_accuracy: 0.8218\n",
      "Epoch 14/20\n",
      "250/250 [==============================] - 38s 151ms/step - loss: 0.3224 - accuracy: 0.8907 - val_loss: 0.5484 - val_accuracy: 0.8258\n",
      "Epoch 15/20\n",
      "250/250 [==============================] - 38s 152ms/step - loss: 0.2921 - accuracy: 0.9004 - val_loss: 0.6119 - val_accuracy: 0.8063\n",
      "Epoch 16/20\n",
      "250/250 [==============================] - 39s 155ms/step - loss: 0.2832 - accuracy: 0.9085 - val_loss: 0.5882 - val_accuracy: 0.8128\n",
      "Epoch 17/20\n",
      "250/250 [==============================] - 38s 154ms/step - loss: 0.2663 - accuracy: 0.9116 - val_loss: 0.5247 - val_accuracy: 0.8383\n",
      "Epoch 18/20\n",
      "250/250 [==============================] - 40s 159ms/step - loss: 0.2531 - accuracy: 0.9151 - val_loss: 0.6505 - val_accuracy: 0.8083\n",
      "Epoch 19/20\n",
      "250/250 [==============================] - 38s 152ms/step - loss: 0.2419 - accuracy: 0.9174 - val_loss: 0.4841 - val_accuracy: 0.8574\n",
      "Epoch 20/20\n",
      "250/250 [==============================] - 38s 151ms/step - loss: 0.2233 - accuracy: 0.9264 - val_loss: 0.5408 - val_accuracy: 0.8338\n"
     ]
    },
    {
     "ename": "NameError",
     "evalue": "name 'X_test_reshaped' is not defined",
     "output_type": "error",
     "traceback": [
      "\u001b[1;31m---------------------------------------------------------------------------\u001b[0m",
      "\u001b[1;31mNameError\u001b[0m                                 Traceback (most recent call last)",
      "\u001b[1;32mc:\\Users\\ayoba\\OneDrive - Ashesi University\\Year 2 sem 2 fall\\AI\\FINAL PROJECT\\final_pro.ipynb Cell 38\u001b[0m line \u001b[0;36m3\n\u001b[0;32m     <a href='vscode-notebook-cell:/c%3A/Users/ayoba/OneDrive%20-%20Ashesi%20University/Year%202%20sem%202%20fall/AI/FINAL%20PROJECT/final_pro.ipynb#X50sZmlsZQ%3D%3D?line=27'>28</a>\u001b[0m history \u001b[39m=\u001b[39m gru_model\u001b[39m.\u001b[39mfit(X_train, y_train, epochs\u001b[39m=\u001b[39mbest_epochs, batch_size\u001b[39m=\u001b[39mbest_batch_size,\n\u001b[0;32m     <a href='vscode-notebook-cell:/c%3A/Users/ayoba/OneDrive%20-%20Ashesi%20University/Year%202%20sem%202%20fall/AI/FINAL%20PROJECT/final_pro.ipynb#X50sZmlsZQ%3D%3D?line=28'>29</a>\u001b[0m                         validation_data\u001b[39m=\u001b[39m(X_val, y_val))\n\u001b[0;32m     <a href='vscode-notebook-cell:/c%3A/Users/ayoba/OneDrive%20-%20Ashesi%20University/Year%202%20sem%202%20fall/AI/FINAL%20PROJECT/final_pro.ipynb#X50sZmlsZQ%3D%3D?line=30'>31</a>\u001b[0m \u001b[39m# Use the trained model to make predictions on the test set\u001b[39;00m\n\u001b[1;32m---> <a href='vscode-notebook-cell:/c%3A/Users/ayoba/OneDrive%20-%20Ashesi%20University/Year%202%20sem%202%20fall/AI/FINAL%20PROJECT/final_pro.ipynb#X50sZmlsZQ%3D%3D?line=31'>32</a>\u001b[0m y_pred_gru \u001b[39m=\u001b[39m gru_model\u001b[39m.\u001b[39mpredict(X_test_reshaped)\n\u001b[0;32m     <a href='vscode-notebook-cell:/c%3A/Users/ayoba/OneDrive%20-%20Ashesi%20University/Year%202%20sem%202%20fall/AI/FINAL%20PROJECT/final_pro.ipynb#X50sZmlsZQ%3D%3D?line=32'>33</a>\u001b[0m y_pred_labels_gru \u001b[39m=\u001b[39m np\u001b[39m.\u001b[39margmax(y_pred_gru, axis\u001b[39m=\u001b[39m\u001b[39m1\u001b[39m)\n",
      "\u001b[1;31mNameError\u001b[0m: name 'X_test_reshaped' is not defined"
     ]
    }
   ],
   "source": [
    "from tensorflow.keras.models import Sequential\n",
    "from tensorflow.keras.layers import GRU, Dense, Dropout\n",
    "from sklearn.metrics import classification_report\n",
    "from sklearn.model_selection import train_test_split\n",
    "\n",
    "# Split the data into training, validation, and testing sets\n",
    "X_train, X_val, y_train, y_val = train_test_split(X_rnn, y_adjusted, test_size=0.2, random_state=42)\n",
    "X_val_reshaped = X_val.reshape(X_val.shape[0], X_val.shape[1], X_val.shape[2], 1)  # Reshape validation data if needed\n",
    "\n",
    "# Create the GRU model with the best parameters\n",
    "best_units = 128\n",
    "best_dropout_rate = 0.2\n",
    "best_batch_size = 32\n",
    "best_epochs = 20\n",
    "\n",
    "gru_model = Sequential([\n",
    "    GRU(units=best_units, input_shape=(X.shape[1], X.shape[2]), return_sequences=True),\n",
    "    Dropout(best_dropout_rate),\n",
    "    GRU(units=int(best_units / 2)),\n",
    "    Dropout(best_dropout_rate),\n",
    "    Dense(len(np.unique(y)), activation='softmax')\n",
    "])\n",
    "\n",
    "# Compile the model\n",
    "gru_model.compile(optimizer='adam', loss='sparse_categorical_crossentropy', metrics=['accuracy'])\n",
    "\n",
    "# Train the model with the training data and validate on validation data\n",
    "history = gru_model.fit(X_train, y_train, epochs=best_epochs, batch_size=best_batch_size,\n",
    "                        validation_data=(X_val, y_val))\n",
    "\n",
    "# Use the trained model to make predictions on the test set\n",
    "y_pred_gru = gru_model.predict(X_test_reshaped)\n",
    "y_pred_labels_gru = np.argmax(y_pred_gru, axis=1)\n",
    "\n",
    "\n"
   ]
  },
  {
   "cell_type": "code",
   "execution_count": 54,
   "metadata": {},
   "outputs": [
    {
     "name": "stdout",
     "output_type": "stream",
     "text": [
      "Epoch 1/20\n",
      "313/313 [==============================] - 50s 144ms/step - loss: 1.4989 - accuracy: 0.4573\n",
      "Epoch 2/20\n",
      "313/313 [==============================] - 45s 144ms/step - loss: 1.0449 - accuracy: 0.6294\n",
      "Epoch 3/20\n",
      "313/313 [==============================] - 45s 143ms/step - loss: 0.8448 - accuracy: 0.7042\n",
      "Epoch 4/20\n",
      "313/313 [==============================] - 45s 145ms/step - loss: 0.6970 - accuracy: 0.7555\n",
      "Epoch 5/20\n",
      "313/313 [==============================] - 45s 143ms/step - loss: 0.6220 - accuracy: 0.7856\n",
      "Epoch 6/20\n",
      "313/313 [==============================] - 45s 144ms/step - loss: 0.5449 - accuracy: 0.8165\n",
      "Epoch 7/20\n",
      "313/313 [==============================] - 46s 145ms/step - loss: 0.4881 - accuracy: 0.8374\n",
      "Epoch 8/20\n",
      "313/313 [==============================] - 45s 144ms/step - loss: 0.4469 - accuracy: 0.8476\n",
      "Epoch 9/20\n",
      "313/313 [==============================] - 46s 148ms/step - loss: 0.4126 - accuracy: 0.8599\n",
      "Epoch 10/20\n",
      "313/313 [==============================] - 45s 145ms/step - loss: 0.3658 - accuracy: 0.8808\n",
      "Epoch 11/20\n",
      "313/313 [==============================] - 45s 144ms/step - loss: 0.3387 - accuracy: 0.8866\n",
      "Epoch 12/20\n",
      "313/313 [==============================] - 45s 144ms/step - loss: 0.3430 - accuracy: 0.8818\n",
      "Epoch 13/20\n",
      "313/313 [==============================] - 45s 144ms/step - loss: 0.2987 - accuracy: 0.9012\n",
      "Epoch 14/20\n",
      "313/313 [==============================] - 45s 144ms/step - loss: 0.2832 - accuracy: 0.9074\n",
      "Epoch 15/20\n",
      "313/313 [==============================] - 45s 144ms/step - loss: 0.2969 - accuracy: 0.9020\n",
      "Epoch 16/20\n",
      "313/313 [==============================] - 45s 145ms/step - loss: 0.2879 - accuracy: 0.9044\n",
      "Epoch 17/20\n",
      "313/313 [==============================] - 45s 144ms/step - loss: 0.2592 - accuracy: 0.9108\n",
      "Epoch 18/20\n",
      "313/313 [==============================] - 45s 144ms/step - loss: 0.2437 - accuracy: 0.9160\n",
      "Epoch 19/20\n",
      "313/313 [==============================] - 45s 144ms/step - loss: 0.2306 - accuracy: 0.9192\n",
      "Epoch 20/20\n",
      "313/313 [==============================] - 45s 144ms/step - loss: 0.2022 - accuracy: 0.9320\n",
      "63/63 [==============================] - 3s 40ms/step\n"
     ]
    }
   ],
   "source": [
    "from tensorflow.keras.models import Sequential\n",
    "from tensorflow.keras.layers import GRU, Dense, Dropout\n",
    "from sklearn.metrics import classification_report\n",
    "\n",
    "# Create the GRU model with the best parameters\n",
    "best_units = 128\n",
    "best_dropout_rate = 0.2\n",
    "best_batch_size = 32\n",
    "best_epochs = 20\n",
    "\n",
    "gru_model = Sequential([\n",
    "    GRU(units=best_units, input_shape=(X.shape[1], X.shape[2]), return_sequences=True),\n",
    "    Dropout(best_dropout_rate),\n",
    "    GRU(units=int(best_units / 2)),\n",
    "    Dropout(best_dropout_rate),\n",
    "    Dense(len(np.unique(y)), activation='softmax')\n",
    "])\n",
    "\n",
    "# Compile the model\n",
    "gru_model.compile(optimizer='adam', loss='sparse_categorical_crossentropy', metrics=['accuracy'])\n",
    "\n",
    "# Train the model with the entire dataset\n",
    "history = gru_model.fit(X_rnn, y_adjusted, epochs=best_epochs, batch_size=best_batch_size)\n",
    "\n",
    "# Use the trained model to make predictions\n",
    "y_pred = gru_model.predict(X_test_reshaped)\n",
    "y_pred_labels = np.argmax(y_pred, axis=1)\n",
    "\n"
   ]
  },
  {
   "cell_type": "markdown",
   "metadata": {},
   "source": [
    "**CLASSIFICATION REPORT FOR BEST GRU model:**"
   ]
  },
  {
   "cell_type": "code",
   "execution_count": null,
   "metadata": {},
   "outputs": [],
   "source": [
    "y_test_gru"
   ]
  },
  {
   "cell_type": "code",
   "execution_count": 55,
   "metadata": {},
   "outputs": [
    {
     "name": "stdout",
     "output_type": "stream",
     "text": [
      "63/63 [==============================] - 3s 41ms/step\n",
      "Classification Report for LSTM model:\n",
      "               precision    recall  f1-score   support\n",
      "\n",
      "       blues       0.98      0.93      0.96       209\n",
      "   classical       0.97      0.99      0.98       203\n",
      "     country       0.92      0.94      0.93       189\n",
      "       disco       0.98      0.96      0.97       191\n",
      "      hiphop       1.00      0.95      0.97       214\n",
      "        jazz       0.92      0.96      0.94       183\n",
      "       metal       0.98      0.95      0.97       197\n",
      "         pop       1.00      0.94      0.97       198\n",
      "      reggae       0.94      0.99      0.96       207\n",
      "        rock       0.88      0.94      0.91       207\n",
      "\n",
      "    accuracy                           0.96      1998\n",
      "   macro avg       0.96      0.96      0.96      1998\n",
      "weighted avg       0.96      0.96      0.96      1998\n",
      "\n"
     ]
    }
   ],
   "source": [
    "y_test_final_gru = gru_model.predict(X_test)\n",
    "y_pred_final_labels_gru = np.argmax(y_test_final_gru, axis=1)\n",
    "# Generate the classification report\n",
    "report_lstm_final = classification_report(y_test_adjusted, y_pred_final_labels_gru, target_names=genres)\n",
    "print(\"Classification Report for LSTM model:\\n\", report_lstm_final)"
   ]
  },
  {
   "cell_type": "markdown",
   "metadata": {},
   "source": [
    "**THE BERT MODEL:**\n",
    "*Google's BERT (Bidirectional Encoder Representations from Transformers) is a strong language representation model particularly geared for natural language understanding jobs. While BERT excels at numerous NLP tasks such as text classification, entity recognition, and question answering, its direct application to audio data for tasks such as audio classification is difficult due to its nature as a text language model.*\n",
    "\n",
    "*the focus here is on audio data processing using MFCC features and applying RNN (LSTM and GRU) models for classification. BERT, being an NLP model, might not be directly applicable for audio classification tasks.*\n",
    "\n",
    "*For audio classification tasks, models like Convolutional Neural Networks (CNNs), Recurrent Neural Networks (RNNs), Time-Distributed CNNs with RNNs (CNN-RNN hybrids), or more advanced architectures like Transformers with attention mechanisms tailored for audio (e.g., Transformer Encoders for audio data) are more suitable.*\n",
    "\n",
    "**Therefore inplace of the BERT model, we built a CNN model**"
   ]
  },
  {
   "cell_type": "code",
   "execution_count": 66,
   "metadata": {},
   "outputs": [
    {
     "name": "stdout",
     "output_type": "stream",
     "text": [
      "Epoch 1/20\n",
      "250/250 [==============================] - 9s 25ms/step - loss: 2.3297 - accuracy: 0.3374 - val_loss: 1.5743 - val_accuracy: 0.4404\n",
      "Epoch 2/20\n",
      "250/250 [==============================] - 4s 18ms/step - loss: 1.5556 - accuracy: 0.4335 - val_loss: 1.4131 - val_accuracy: 0.4890\n",
      "Epoch 3/20\n",
      "250/250 [==============================] - 4s 17ms/step - loss: 1.4399 - accuracy: 0.4777 - val_loss: 1.3294 - val_accuracy: 0.5190\n",
      "Epoch 4/20\n",
      "250/250 [==============================] - 4s 17ms/step - loss: 1.3532 - accuracy: 0.5106 - val_loss: 1.3010 - val_accuracy: 0.5330\n",
      "Epoch 5/20\n",
      "250/250 [==============================] - 4s 17ms/step - loss: 1.2438 - accuracy: 0.5466 - val_loss: 1.2178 - val_accuracy: 0.5616\n",
      "Epoch 6/20\n",
      "250/250 [==============================] - 4s 17ms/step - loss: 1.1994 - accuracy: 0.5663 - val_loss: 1.2666 - val_accuracy: 0.5445\n",
      "Epoch 7/20\n",
      "250/250 [==============================] - 4s 17ms/step - loss: 1.1080 - accuracy: 0.6010 - val_loss: 1.2678 - val_accuracy: 0.5556\n",
      "Epoch 8/20\n",
      "250/250 [==============================] - 4s 17ms/step - loss: 1.0491 - accuracy: 0.6233 - val_loss: 1.2112 - val_accuracy: 0.5721\n",
      "Epoch 9/20\n",
      "250/250 [==============================] - 4s 17ms/step - loss: 0.9835 - accuracy: 0.6546 - val_loss: 1.1868 - val_accuracy: 0.5966\n",
      "Epoch 10/20\n",
      "250/250 [==============================] - 4s 17ms/step - loss: 0.8969 - accuracy: 0.6894 - val_loss: 1.1376 - val_accuracy: 0.6121\n",
      "Epoch 11/20\n",
      "250/250 [==============================] - 4s 17ms/step - loss: 0.8421 - accuracy: 0.7043 - val_loss: 1.1782 - val_accuracy: 0.6261\n",
      "Epoch 12/20\n",
      "250/250 [==============================] - 4s 17ms/step - loss: 0.7523 - accuracy: 0.7347 - val_loss: 1.2563 - val_accuracy: 0.5996\n",
      "Epoch 13/20\n",
      "250/250 [==============================] - 4s 17ms/step - loss: 0.6923 - accuracy: 0.7536 - val_loss: 1.1430 - val_accuracy: 0.6266\n",
      "Epoch 14/20\n",
      "250/250 [==============================] - 4s 18ms/step - loss: 0.6657 - accuracy: 0.7694 - val_loss: 1.2385 - val_accuracy: 0.6316\n",
      "Epoch 15/20\n",
      "250/250 [==============================] - 4s 17ms/step - loss: 0.5826 - accuracy: 0.7943 - val_loss: 1.2544 - val_accuracy: 0.6436\n",
      "Epoch 16/20\n",
      "250/250 [==============================] - 4s 17ms/step - loss: 0.5572 - accuracy: 0.8052 - val_loss: 1.3064 - val_accuracy: 0.6321\n",
      "Epoch 17/20\n",
      "250/250 [==============================] - 4s 17ms/step - loss: 0.5151 - accuracy: 0.8209 - val_loss: 1.2650 - val_accuracy: 0.6481\n",
      "Epoch 18/20\n",
      "250/250 [==============================] - 4s 17ms/step - loss: 0.4751 - accuracy: 0.8345 - val_loss: 1.3946 - val_accuracy: 0.6356\n",
      "Epoch 19/20\n",
      "250/250 [==============================] - 4s 17ms/step - loss: 0.4617 - accuracy: 0.8386 - val_loss: 1.4833 - val_accuracy: 0.6151\n",
      "Epoch 20/20\n",
      "250/250 [==============================] - 5s 18ms/step - loss: 0.4105 - accuracy: 0.8562 - val_loss: 1.4702 - val_accuracy: 0.6216\n",
      "63/63 [==============================] - 0s 5ms/step - loss: 1.4702 - accuracy: 0.6216\n",
      "Test accuracy using CNN: 0.6216\n"
     ]
    },
    {
     "data": {
      "image/png": "[encoded data removed]",
      "text/plain": [
       "<Figure size 640x480 with 1 Axes>"
      ]
     },
     "metadata": {},
     "output_type": "display_data"
    },
    {
     "data": {
      "image/png": "[encoded data removed]",
      "text/plain": [
       "<Figure size 640x480 with 1 Axes>"
      ]
     },
     "metadata": {},
     "output_type": "display_data"
    }
   ],
   "source": [
    "from tensorflow.keras.models import Sequential\n",
    "from tensorflow.keras.layers import Conv2D, MaxPooling2D, Flatten, Dense, Dropout\n",
    "\n",
    "#   X contains MFCC data and y contains labels\n",
    "\n",
    "X_cnn = X.reshape(X.shape[0], X.shape[1], X.shape[2], 1)  # Adding a channel dimension for CNN\n",
    "\n",
    "# Split the data into training and testing sets\n",
    "X_train, X_test, y_train, y_test = train_test_split(X_cnn, y_adjusted, test_size=0.2, random_state=42)\n",
    "\n",
    "# Create the CNN model\n",
    "model_cnn = Sequential([\n",
    "    Conv2D(32, kernel_size=(3, 3), activation='relu', input_shape=(X.shape[1], X.shape[2], 1)),\n",
    "    MaxPooling2D(pool_size=(2, 2)),\n",
    "    Conv2D(64, kernel_size=(3, 3), activation='relu'),\n",
    "    MaxPooling2D(pool_size=(2, 2)),\n",
    "    Flatten(),\n",
    "    Dense(128, activation='relu'),\n",
    "    Dropout(0.3),\n",
    "    Dense(len(np.unique(y)), activation='softmax')  # Output layer with softmax activation\n",
    "])\n",
    "\n",
    "# Compile the CNN model\n",
    "model_cnn.compile(optimizer='adam', loss='sparse_categorical_crossentropy', metrics=['accuracy'])\n",
    "\n",
    "# Train the CNN model\n",
    "history_cnn = model_cnn.fit(X_train, y_train, epochs=20, batch_size=32, validation_data=(X_test, y_test))\n",
    "\n",
    "# Evaluate the CNN model\n",
    "test_loss_cnn, test_acc_cnn = model_cnn.evaluate(X_test, y_test)\n",
    "print(f\"Test accuracy using CNN: {test_acc_cnn:.4f}\")\n",
    "\n",
    "# Plot training and validation accuracy\n",
    "plt.plot(history_cnn.history['accuracy'], label='Training Accuracy')\n",
    "plt.plot(history_cnn.history['val_accuracy'], label='Validation Accuracy')\n",
    "plt.xlabel('Epochs')\n",
    "plt.ylabel('Accuracy')\n",
    "plt.legend()\n",
    "plt.show()\n",
    "\n",
    "# Plot training and validation loss\n",
    "plt.plot(history_cnn.history['loss'], label='Training Loss')\n",
    "plt.plot(history_cnn.history['val_loss'], label='Validation Loss')\n",
    "plt.xlabel('Epochs')\n",
    "plt.ylabel('Loss')\n",
    "plt.legend()\n",
    "plt.show()\n"
   ]
  },
  {
   "cell_type": "code",
   "execution_count": 67,
   "metadata": {},
   "outputs": [
    {
     "name": "stdout",
     "output_type": "stream",
     "text": [
      "63/63 [==============================] - 0s 4ms/step - loss: 2.3031 - accuracy: 0.0946\n",
      "63/63 [==============================] - 0s 4ms/step - loss: 2.3031 - accuracy: 0.0946\n",
      "63/63 [==============================] - 0s 5ms/step - loss: 2.3031 - accuracy: 0.0956\n",
      "63/63 [==============================] - 0s 5ms/step - loss: 2.3030 - accuracy: 0.0946\n",
      "63/63 [==============================] - 0s 5ms/step - loss: 2.3032 - accuracy: 0.0916\n",
      "63/63 [==============================] - 0s 4ms/step - loss: 2.3030 - accuracy: 0.0946\n",
      "63/63 [==============================] - 0s 5ms/step - loss: 1.7515 - accuracy: 0.3504\n",
      "63/63 [==============================] - 0s 5ms/step - loss: 2.3032 - accuracy: 0.0916\n",
      "63/63 [==============================] - 1s 9ms/step - loss: 2.3031 - accuracy: 0.0946\n",
      "63/63 [==============================] - 1s 9ms/step - loss: 2.3030 - accuracy: 0.0946\n",
      "63/63 [==============================] - 1s 11ms/step - loss: 2.3032 - accuracy: 0.0946\n",
      "63/63 [==============================] - 1s 15ms/step - loss: 2.3031 - accuracy: 0.0946\n",
      "63/63 [==============================] - 1s 12ms/step - loss: 2.3031 - accuracy: 0.0956\n",
      "63/63 [==============================] - 1s 13ms/step - loss: 2.3031 - accuracy: 0.0946\n",
      "63/63 [==============================] - 1s 14ms/step - loss: 2.3032 - accuracy: 0.0946\n",
      "63/63 [==============================] - 1s 15ms/step - loss: 2.3031 - accuracy: 0.0946\n",
      "Best Accuracy: 0.35035035014152527\n",
      "Best Parameters: {'filters': 32, 'kernel_size': (4, 4), 'dense_units': 128, 'dropout_rate': 0.3}\n"
     ]
    }
   ],
   "source": [
    "from tensorflow.keras.models import Sequential\n",
    "from tensorflow.keras.layers import Conv2D, MaxPooling2D, Flatten, Dense, Dropout\n",
    "import numpy as np\n",
    "from sklearn.model_selection import train_test_split\n",
    "\n",
    "#  X contains MFCC data and y contains labels\n",
    "\n",
    "X_cnn = X.reshape(X.shape[0], X.shape[1], X.shape[2], 1)  # Adding a channel dimension for CNN\n",
    "\n",
    "# Define hyperparameters to be tested\n",
    "filters_list = [32, 64]\n",
    "kernel_sizes = [(3, 3), (4, 4)]\n",
    "dense_units = [64, 128]\n",
    "dropout_rates = [0.3, 0.5]\n",
    "\n",
    "best_accuracy = 0\n",
    "best_params = {}\n",
    "\n",
    "# Split the data into training and testing sets\n",
    "X_train, X_test, y_train, y_test = train_test_split(X_cnn, y_adjusted, test_size=0.2, random_state=42)\n",
    "\n",
    "# Iterate through each combination of hyperparameters\n",
    "for filters in filters_list:\n",
    "    for kernel_size in kernel_sizes:\n",
    "        for dense_unit in dense_units:\n",
    "            for dropout_rate in dropout_rates:\n",
    "                # Create the CNN model\n",
    "                model = Sequential([\n",
    "                    Conv2D(filters, kernel_size=kernel_size, activation='relu', input_shape=(X.shape[1], X.shape[2], 1)),\n",
    "                    MaxPooling2D(pool_size=(2, 2)),\n",
    "                    Flatten(),\n",
    "                    Dense(dense_unit, activation='relu'),\n",
    "                    Dropout(dropout_rate),\n",
    "                    Dense(len(np.unique(y)), activation='softmax')  # Output layer with softmax activation\n",
    "                ])\n",
    "\n",
    "                # Compile the CNN model\n",
    "                model.compile(optimizer='adam', loss='sparse_categorical_crossentropy', metrics=['accuracy'])\n",
    "\n",
    "                # Train the CNN model\n",
    "                history = model.fit(X_train, y_train, epochs=10, batch_size=32, verbose=0)\n",
    "\n",
    "                # Evaluate the CNN model\n",
    "                _, test_accuracy = model.evaluate(X_test, y_test)\n",
    "\n",
    "                # Save the best parameters and accuracy\n",
    "                if test_accuracy > best_accuracy:\n",
    "                    best_accuracy = test_accuracy\n",
    "                    best_params = {\n",
    "                        'filters': filters,\n",
    "                        'kernel_size': kernel_size,\n",
    "                        'dense_units': dense_unit,\n",
    "                        'dropout_rate': dropout_rate\n",
    "                    }\n",
    "\n",
    "print(\"Best Accuracy:\", best_accuracy)\n",
    "print(\"Best Parameters:\", best_params)\n"
   ]
  },
  {
   "cell_type": "code",
   "execution_count": 68,
   "metadata": {},
   "outputs": [
    {
     "name": "stderr",
     "output_type": "stream",
     "text": [
      "C:\\Users\\ayoba\\AppData\\Local\\Packages\\PythonSoftwareFoundation.Python.3.10_qbz5n2kfra8p0\\LocalCache\\local-packages\\Python310\\site-packages\\keras\\src\\engine\\training.py:3103: UserWarning: You are saving your model as an HDF5 file via `model.save()`. This file format is considered legacy. We recommend using instead the native Keras format, e.g. `model.save('my_model.keras')`.\n",
      "  saving_api.save_model(\n"
     ]
    }
   ],
   "source": [
    "gru_model.save('gru_model.h5')"
   ]
  },
  {
   "cell_type": "code",
   "execution_count": 69,
   "metadata": {},
   "outputs": [
    {
     "name": "stdout",
     "output_type": "stream",
     "text": [
      "Label: 0, Genre: blues\n",
      "Label: 1, Genre: classical\n",
      "Label: 2, Genre: country\n",
      "Label: 3, Genre: disco\n",
      "Label: 4, Genre: hiphop\n",
      "Label: 5, Genre: jazz\n",
      "Label: 6, Genre: metal\n",
      "Label: 7, Genre: pop\n",
      "Label: 8, Genre: reggae\n",
      "Label: 9, Genre: rock\n"
     ]
    }
   ],
   "source": [
    "import json\n",
    "\n",
    "# Load data from the JSON file generated by save_mfcc function\n",
    "with open(json_path, 'r') as f:\n",
    "    data = json.load(f)\n",
    "\n",
    "# Extract the genres and their corresponding semantic labels\n",
    "genres = data['mapping']\n",
    "\n",
    "# Display the mapping of genres\n",
    "for idx, genre in enumerate(genres):\n",
    "    print(f\"Label: {idx}, Genre: {genre}\")\n"
   ]
  },
  {
   "cell_type": "code",
   "execution_count": 31,
   "metadata": {},
   "outputs": [
    {
     "name": "stdout",
     "output_type": "stream",
     "text": [
      "1/1 [==============================] - 0s 297ms/step\n",
      "Predicted Genre: hiphop\n"
     ]
    }
   ],
   "source": [
    "# Load a new audio file and extract MFCCs\n",
    "new_audio_file = r\"C:\\Users\\ayoba\\OneDrive - Ashesi University\\Year 2 sem 2 fall\\AI\\FINAL PROJECT\\Data\\genres_original\\hiphop\\hiphop.00027.wav\"\n",
    "signal, sr = librosa.load(new_audio_file, sr=SAMPLE_RATE, duration=30)  # Load only the first 30 seconds\n",
    "\n",
    "# Extract MFCCs from the loaded audio file\n",
    "mfccs = librosa.feature.mfcc(y=signal, sr=sr, n_mfcc=13, n_fft=2048, hop_length=512)\n",
    "mfccs = mfccs.T  # Transpose the matrix to match the shape used for training\n",
    "\n",
    "# Reshape the MFCCs to match the input shape of the model\n",
    "mfccs_reshaped = mfccs.reshape(1, mfccs.shape[0], mfccs.shape[1])  # 3D tensor (1, time_steps, num_features)\n",
    "\n",
    "# Make predictions\n",
    "predictions = final_model.predict(mfccs_reshaped)\n",
    "\n",
    "# Convert predictions to class labels\n",
    "predicted_label = np.argmax(predictions, axis=1)[0]  #  single prediction\n",
    "predicted_genre = genres[predicted_label] \n",
    "\n",
    "print(f\"Predicted Genre: {predicted_genre}\")"
   ]
  },
  {
   "cell_type": "code",
   "execution_count": 28,
   "metadata": {},
   "outputs": [
    {
     "name": "stdout",
     "output_type": "stream",
     "text": [
      "Input shape of the model: (None, 130, 13)\n"
     ]
    }
   ],
   "source": [
    "input_shape = final_model.input_shape\n",
    "print(\"Input shape of the model:\", input_shape)\n"
   ]
  },
  {
   "cell_type": "code",
   "execution_count": 24,
   "metadata": {},
   "outputs": [
    {
     "name": "stdout",
     "output_type": "stream",
     "text": [
      "1/1 [==============================] - 0s 253ms/step\n",
      "Predicted Genre: hiphop\n"
     ]
    }
   ],
   "source": [
    "# Load a new audio file and extract MFCCs\n",
    "new_audio_file = r\"C:\\Users\\ayoba\\Downloads\\Eminem_-_Mockingbird_[NaijaGreen.Com]_.mp3\"\n",
    "signal, sr = librosa.load(new_audio_file, sr=SAMPLE_RATE, duration=30)  # Load only the first 30 seconds\n",
    "\n",
    "# Extract MFCCs from the loaded audio file\n",
    "mfccs = librosa.feature.mfcc(y=signal, sr=sr, n_mfcc=13, n_fft=2048, hop_length=512)\n",
    "mfccs = mfccs.T  # Transpose the matrix to match the shape used for training\n",
    "\n",
    "# Reshape the MFCCs to match the input shape of the model\n",
    "mfccs_reshaped = mfccs.reshape(1, mfccs.shape[0], mfccs.shape[1])  # 3D tensor (1, time_steps, num_features)\n",
    "\n",
    "# Make predictions\n",
    "predictions = final_model.predict(mfccs_reshaped)\n",
    "\n",
    "# Convert predictions to class labels\n",
    "predicted_label = np.argmax(predictions, axis=1)[0]  #   single prediction\n",
    "predicted_genre = genres[predicted_label]  #   'genres' is the list of class names\n",
    "\n",
    "print(f\"Predicted Genre: {predicted_genre}\")"
   ]
  }
 ],
 "metadata": {
  "kernelspec": {
   "display_name": "Python 3",
   "language": "python",
   "name": "python3"
  },
  "language_info": {
   "codemirror_mode": {
    "name": "ipython",
    "version": 3
   },
   "file_extension": ".py",
   "mimetype": "text/x-python",
   "name": "python",
   "nbconvert_exporter": "python",
   "pygments_lexer": "ipython3",
   "version": "3.10.11"
  }
 },
 "nbformat": 4,
 "nbformat_minor": 2
}
